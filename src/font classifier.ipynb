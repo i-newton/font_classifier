{
 "cells": [
  {
   "cell_type": "code",
   "execution_count": 1,
   "metadata": {},
   "outputs": [
    {
     "name": "stderr",
     "output_type": "stream",
     "text": [
      "/home/snake/anaconda3/envs/myenv/lib/python3.6/importlib/_bootstrap.py:219: RuntimeWarning: numpy.dtype size changed, may indicate binary incompatibility. Expected 96, got 88\n",
      "  return f(*args, **kwds)\n",
      "/home/snake/anaconda3/envs/myenv/lib/python3.6/importlib/_bootstrap.py:219: RuntimeWarning: numpy.dtype size changed, may indicate binary incompatibility. Expected 96, got 88\n",
      "  return f(*args, **kwds)\n"
     ]
    }
   ],
   "source": [
    "import torch\n",
    "import torchvision\n",
    "from torch.utils.data import Dataset, DataLoader\n",
    "import pandas as pd\n",
    "from torchvision import transforms\n",
    "from PIL import Image\n",
    "import torch.nn as nn\n",
    "import torch.nn.functional as F\n",
    "from torch import optim\n",
    "cuda = torch.device('cuda')\n",
    "import numpy as np\n",
    "import matplotlib.pyplot as plt\n",
    "BATCH_SIZE=40\n",
    "import random\n",
    "\n",
    "random.seed(17)\n",
    "torch.manual_seed(17)\n",
    "torch.cuda.manual_seed(17)"
   ]
  },
  {
   "cell_type": "code",
   "execution_count": 2,
   "metadata": {},
   "outputs": [],
   "source": [
    "#first load datasets\n",
    "class FontDataset(Dataset):\n",
    "    def __init__(self, f_name, transform=None):\n",
    "        self.df = pd.read_csv(f_name)\n",
    "        self.transform = transform\n",
    "    \n",
    "    def __len__(self):\n",
    "        return len(self.df)\n",
    "\n",
    "    def __getitem__(self, idx):\n",
    "        path = self.df.iloc[idx, 1]\n",
    "        label = self.df.iloc[idx, 2]\n",
    "        image = Image.open(path).convert('1')\n",
    "        if self.transform:\n",
    "            image = self.transform(image)\n",
    "            image = image.to(cuda)\n",
    "        sample = (image, label)\n",
    "        return sample\n",
    "transformations = transforms.Compose([transforms.ToTensor()])"
   ]
  },
  {
   "cell_type": "code",
   "execution_count": 3,
   "metadata": {},
   "outputs": [],
   "source": [
    "train_dataset = FontDataset(f_name=\"train.csv\", transform=transformations)\n",
    "train_dataset_loader = torch.utils.data.DataLoader(dataset=train_dataset, batch_size=BATCH_SIZE)"
   ]
  },
  {
   "cell_type": "code",
   "execution_count": 4,
   "metadata": {},
   "outputs": [],
   "source": [
    "validation_dataset = FontDataset(f_name=\"validation.csv\", transform=transformations)\n",
    "validation_dataset_loader = torch.utils.data.DataLoader(dataset=validation_dataset, batch_size=BATCH_SIZE)"
   ]
  },
  {
   "cell_type": "code",
   "execution_count": 5,
   "metadata": {},
   "outputs": [],
   "source": [
    "# i didn't use any regulization technique here because we can easily extend our dataset \n",
    "# and this is the best regularization we can get\n",
    "class Net(nn.Module):\n",
    "    def __init__(self):\n",
    "        super(Net, self).__init__()\n",
    "        self.conv1 = nn.Conv2d(1, 10, kernel_size=5,padding=2)\n",
    "        torch.nn.init.xavier_uniform_(self.conv1.weight)\n",
    "        self.conv2 = nn.Conv2d(10, 20, kernel_size=5, padding=2)\n",
    "        torch.nn.init.xavier_uniform_(self.convtrain_dataset = FontDataset(f_name=\"train.csv\", transform=transformations)\n",
    "train_dataset_loader = torch.utils.data.DataLoader(dataset=train_dataset, batch_size=BATCH_SIZE)2.weight)\n",
    "        self.fc1 = nn.Linear(3000, 200)\n",
    "        torch.nn.init.xavier_uniform_(self.fc1.weight)\n",
    "        self.fc2 = nn.Linear(200, 10)\n",
    "        torch.nn.init.xavier_uniform_(self.fc2.weight)\n",
    "\n",
    "    def forward(self, x):\n",
    "        x = F.relu(F.max_pool2d(self.conv1(x), 2))\n",
    "        x = F.relu(F.max_pool2d(self.conv2(x), 2))\n",
    "        x = x.view(-1, 3000)\n",
    "        x = F.relu(self.fc1(x))\n",
    "        x = self.fc2(x)\n",
    "        return F.softmax(x, dim=1)"
   ]
  },
  {
   "cell_type": "code",
   "execution_count": 6,
   "metadata": {},
   "outputs": [],
   "source": [
    "def train(model, device, train_loader, optimizer, epoch, test_loader):\n",
    "    epoch_losses = []\n",
    "    val_losses = []\n",
    "    val_accuracies = []\n",
    "    model.train()\n",
    "    for i in range(epoch):\n",
    "        epoch_loss = []\n",
    "        for batch_idx, (data, target) in enumerate(train_loader):\n",
    "            data, target = data.to(device), target.to(device)\n",
    "            optimizer.zero_grad()\n",
    "            output = model(data)\n",
    "            loss = F.cross_entropy(output, target)\n",
    "            loss.backward()\n",
    "            optimizer.step()\n",
    "            epoch_loss.append(loss.item())\n",
    "        epoch_losses.append(np.mean(epoch_loss))\n",
    "        print(\"Overall Epoch %s training loss: %s\"%(i, str(np.mean(epoch_loss))))\n",
    "        val_loss = test(model, device, test_loader)\n",
    "        val_losses.append(val_loss)\n",
    "    plt.plot(epoch_losses, label=\"train_loss\", color=\"red\")\n",
    "    plt.plot(val_losses, label=\"validation_loss\", color=\"green\")\n",
    "    plt.legend()\n",
    "    plt.show()\n",
    "        \n",
    "\n",
    "def test(model, device, test_loader):\n",
    "    test_loss = 0\n",
    "    correct = 0\n",
    "    with torch.no_grad():\n",
    "        for data, target in test_loader:\n",
    "            data, target = data.to(device), target.to(device)\n",
    "            output = model(data)\n",
    "            test_loss += F.cross_entropy(output, target, reduction='sum').item() # sum up batch loss\n",
    "            pred = output.max(1, keepdim=True)[1] # get the index of the max log-probability\n",
    "            correct += pred.eq(target.view_as(pred)).sum().item()\n",
    "\n",
    "    test_loss /= len(test_loader.dataset)\n",
    "    print('\\nTest set: Average loss: {:.4f}, Accuracy: {}/{} ({:.0f}%)\\n'.format(\n",
    "        test_loss, correct, len(test_loader.dataset),\n",
    "        100. * correct / len(test_loader.dataset)))\n",
    "    return test_loss"
   ]
  },
  {
   "cell_type": "code",
   "execution_count": 7,
   "metadata": {},
   "outputs": [],
   "source": [
    "net = Net()\n",
    "net = net.to(cuda)\n",
    "#seems regularization does not bring big benefit for the current task\n",
    "optimizer = optim.Adam(net.parameters())"
   ]
  },
  {
   "cell_type": "code",
   "execution_count": 8,
   "metadata": {},
   "outputs": [
    {
     "name": "stdout",
     "output_type": "stream",
     "text": [
      "Overall Epoch 0 training loss: 1.903647307852904\n",
      "\n",
      "Test set: Average loss: 1.7889, Accuracy: 10829/16000 (68%)\n",
      "\n",
      "Overall Epoch 1 training loss: 1.7646392386820582\n",
      "\n",
      "Test set: Average loss: 1.7355, Accuracy: 11644/16000 (73%)\n",
      "\n",
      "Overall Epoch 2 training loss: 1.7048601324690713\n",
      "\n",
      "Test set: Average loss: 1.6878, Accuracy: 12392/16000 (77%)\n",
      "\n",
      "Overall Epoch 3 training loss: 1.6467546715007888\n",
      "\n",
      "Test set: Average loss: 1.6362, Accuracy: 13201/16000 (83%)\n",
      "\n",
      "Overall Epoch 4 training loss: 1.627539569106367\n",
      "\n",
      "Test set: Average loss: 1.6460, Accuracy: 13039/16000 (81%)\n",
      "\n"
     ]
    },
    {
     "data": {
      "image/png": "[encoded data removed]",
      "text/plain": [
       "<Figure size 432x288 with 1 Axes>"
      ]
     },
     "metadata": {},
     "output_type": "display_data"
    }
   ],
   "source": [
    "train(net, cuda,train_dataset_loader, optimizer,5, validation_dataset_loader)"
   ]
  },
  {
   "cell_type": "code",
   "execution_count": 9,
   "metadata": {},
   "outputs": [
    {
     "name": "stdout",
     "output_type": "stream",
     "text": [
      "Overall Epoch 0 training loss: 1.6173413510786163\n",
      "\n",
      "Test set: Average loss: 1.6186, Accuracy: 13486/16000 (84%)\n",
      "\n",
      "Overall Epoch 1 training loss: 1.6062684148550033\n",
      "\n",
      "Test set: Average loss: 1.6136, Accuracy: 13552/16000 (85%)\n",
      "\n",
      "Overall Epoch 2 training loss: 1.6003790053394105\n",
      "\n",
      "Test set: Average loss: 1.6142, Accuracy: 13554/16000 (85%)\n",
      "\n",
      "Overall Epoch 3 training loss: 1.596035836868816\n",
      "\n",
      "Test set: Average loss: 1.6199, Accuracy: 13452/16000 (84%)\n",
      "\n",
      "Overall Epoch 4 training loss: 1.5735012896524536\n",
      "\n",
      "Test set: Average loss: 1.5715, Accuracy: 14232/16000 (89%)\n",
      "\n"
     ]
    },
    {
     "data": {
      "image/png": "[encoded data removed]",
      "text/plain": [
       "<Figure size 432x288 with 1 Axes>"
      ]
     },
     "metadata": {},
     "output_type": "display_data"
    }
   ],
   "source": [
    "train(net, cuda,train_dataset_loader, optimizer,5, validation_dataset_loader)"
   ]
  },
  {
   "cell_type": "code",
   "execution_count": 10,
   "metadata": {},
   "outputs": [
    {
     "name": "stdout",
     "output_type": "stream",
     "text": [
      "Overall Epoch 0 training loss: 1.5376560505893495\n",
      "\n",
      "Test set: Average loss: 1.5496, Accuracy: 14583/16000 (91%)\n",
      "\n",
      "Overall Epoch 1 training loss: 1.5200266880459257\n",
      "\n",
      "Test set: Average loss: 1.5490, Accuracy: 14588/16000 (91%)\n",
      "\n",
      "Overall Epoch 2 training loss: 1.5136074839366807\n",
      "\n",
      "Test set: Average loss: 1.5361, Accuracy: 14794/16000 (92%)\n",
      "\n",
      "Overall Epoch 3 training loss: 1.5068515369958349\n",
      "\n",
      "Test set: Average loss: 1.5673, Accuracy: 14291/16000 (89%)\n",
      "\n",
      "Overall Epoch 4 training loss: 1.5039083135790294\n",
      "\n",
      "Test set: Average loss: 1.5442, Accuracy: 14671/16000 (92%)\n",
      "\n"
     ]
    },
    {
     "data": {
      "image/png": "[encoded data removed]",
      "text/plain": [
       "<Figure size 432x288 with 1 Axes>"
      ]
     },
     "metadata": {},
     "output_type": "display_data"
    }
   ],
   "source": [
    "train(net, cuda,train_dataset_loader, optimizer,5, validation_dataset_loader)"
   ]
  },
  {
   "cell_type": "code",
   "execution_count": 11,
   "metadata": {},
   "outputs": [
    {
     "name": "stdout",
     "output_type": "stream",
     "text": [
      "Overall Epoch 0 training loss: 1.4877672706047693\n",
      "\n",
      "Test set: Average loss: 1.5218, Accuracy: 15026/16000 (94%)\n",
      "\n",
      "Overall Epoch 1 training loss: 1.4839466331733597\n",
      "\n",
      "Test set: Average loss: 1.5193, Accuracy: 15059/16000 (94%)\n",
      "\n",
      "Overall Epoch 2 training loss: 1.4815785449412133\n",
      "\n",
      "Test set: Average loss: 1.5200, Accuracy: 15053/16000 (94%)\n",
      "\n",
      "Overall Epoch 3 training loss: 1.4800434673494762\n",
      "\n",
      "Test set: Average loss: 1.5181, Accuracy: 15093/16000 (94%)\n",
      "\n",
      "Overall Epoch 4 training loss: 1.4790790957212447\n",
      "\n",
      "Test set: Average loss: 1.5197, Accuracy: 15064/16000 (94%)\n",
      "\n"
     ]
    },
    {
     "data": {
      "image/png": "[encoded data removed]",
      "text/plain": [
       "<Figure size 432x288 with 1 Axes>"
      ]
     },
     "metadata": {},
     "output_type": "display_data"
    }
   ],
   "source": [
    "#seems we stuck at plato\n",
    "#try to tune with very small lr\n",
    "ft_optimizer = optim.Adam(net.parameters(), lr=0.0001)\n",
    "train(net, cuda,train_dataset_loader, ft_optimizer,5, validation_dataset_loader)"
   ]
  },
  {
   "cell_type": "code",
   "execution_count": null,
   "metadata": {},
   "outputs": [],
   "source": [
    "#94 is a good score IMO=)\n",
    "# seems this minima is stable to perturbations so lets proceed with it"
   ]
  },
  {
   "cell_type": "code",
   "execution_count": null,
   "metadata": {},
   "outputs": [],
   "source": []
  },
  {
   "cell_type": "code",
   "execution_count": 12,
   "metadata": {},
   "outputs": [],
   "source": [
    "def save_checkpoint(model,optimizer, filename=\"model.pth\"):\n",
    "    state = {\"model\":model.state_dict(),\n",
    "             \"optimizer\":optimizer.state_dict()}\n",
    "    torch.save(state, filename)\n",
    "\n",
    "def restore_checkpoint(filename=\"model.pth\"):\n",
    "    checkpoint = torch.load(filename)\n",
    "    model = Net()\n",
    "    model.load_state_dict(checkpoint[\"model\"])\n",
    "    optimizer = optim.Adam(net.parameters())\n",
    "    optimizer.load_state_dict(checkpoint[\"optimizer\"])\n",
    "    return model, optimizer"
   ]
  },
  {
   "cell_type": "code",
   "execution_count": 13,
   "metadata": {},
   "outputs": [],
   "source": [
    "save_checkpoint(net, optimizer)"
   ]
  },
  {
   "cell_type": "code",
   "execution_count": 17,
   "metadata": {},
   "outputs": [
    {
     "data": {
      "text/plain": [
       "Net(\n",
       "  (conv1): Conv2d(1, 10, kernel_size=(5, 5), stride=(1, 1), padding=(2, 2))\n",
       "  (conv2): Conv2d(10, 20, kernel_size=(5, 5), stride=(1, 1), padding=(2, 2))\n",
       "  (fc1): Linear(in_features=3000, out_features=200, bias=True)\n",
       "  (fc2): Linear(in_features=200, out_features=10, bias=True)\n",
       ")"
      ]
     },
     "execution_count": 17,
     "metadata": {},
     "output_type": "execute_result"
    }
   ],
   "source": [
    "new_model, optimizer = restore_checkpoint()\n",
    "new_model.to(cuda)"
   ]
  },
  {
   "cell_type": "code",
   "execution_count": 18,
   "metadata": {},
   "outputs": [],
   "source": [
    "test_dataset = FontDataset(f_name=\"test.csv\", transform=transformations)\n",
    "test_dataset_loader = torch.utils.data.DataLoader(dataset=test_dataset, batch_size=BATCH_SIZE)"
   ]
  },
  {
   "cell_type": "code",
   "execution_count": 19,
   "metadata": {},
   "outputs": [
    {
     "name": "stdout",
     "output_type": "stream",
     "text": [
      "\n",
      "Test set: Average loss: 1.5199, Accuracy: 52704/56000 (94%)\n",
      "\n"
     ]
    },
    {
     "data": {
      "text/plain": [
       "1.5199337855066573"
      ]
     },
     "execution_count": 19,
     "metadata": {},
     "output_type": "execute_result"
    }
   ],
   "source": [
    "# ensure test score is still good, so model ready for usage\n",
    "test(new_model, cuda, test_dataset_loader)"
   ]
  },
  {
   "cell_type": "code",
   "execution_count": null,
   "metadata": {},
   "outputs": [],
   "source": [
    "link to the model is here:\n",
    "https://drive.google.com/open?id=1QIneYwRgF5nhVhxNLJiSIKnrF2eSve84\n",
    "please upload it to the same folder as notebook location folder"
   ]
  },
  {
   "cell_type": "code",
   "execution_count": null,
   "metadata": {},
   "outputs": [],
   "source": []
  }
 ],
 "metadata": {
  "kernelspec": {
   "display_name": "Python [conda env:myenv]",
   "language": "python",
   "name": "conda-env-myenv-py"
  },
  "language_info": {
   "codemirror_mode": {
    "name": "ipython",
    "version": 3
   },
   "file_extension": ".py",
   "mimetype": "text/x-python",
   "name": "python",
   "nbconvert_exporter": "python",
   "pygments_lexer": "ipython3",
   "version": "3.6.6"
  }
 },
 "nbformat": 4,
 "nbformat_minor": 2
}
